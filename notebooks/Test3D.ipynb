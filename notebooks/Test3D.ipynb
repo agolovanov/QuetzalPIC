{
 "cells": [
  {
   "cell_type": "code",
   "execution_count": null,
   "metadata": {},
   "outputs": [],
   "source": [
    "import matplotlib.pyplot as plt\n",
    "import h5py\n",
    "import numpy as np\n",
    "from scipy import integrate"
   ]
  },
  {
   "cell_type": "code",
   "execution_count": null,
   "metadata": {},
   "outputs": [],
   "source": [
    "def asqr_func(x, y, z):\n",
    "    x0 = 5\n",
    "    y0 = 10\n",
    "    z0 = 10\n",
    "    xsigma = 2\n",
    "    ysigma = 2\n",
    "    zsigma = 2\n",
    "    return 0.00005 * np.exp(-2 * ( x - x0) ** 2 / xsigma ** 2 - 2 * (y - y0) ** 2 / ysigma ** 2 - 2 * ( z - z0) ** 2 / zsigma ** 2)\n",
    "\n",
    "\n",
    "def Ufunc(x, y, z):\n",
    "    return 0.5 * asqr_func(x, y, z)\n",
    "\n",
    "@np.vectorize\n",
    "def psi_func(x, y, z):\n",
    "    return integrate.quad(lambda xi: 0.5 * asqr_func(xi, y, z) * np.sin(x -  xi), 0, x)[0]\n",
    "\n",
    "@np.vectorize\n",
    "def ex_func(x, y, z):\n",
    "    return integrate.quad(lambda xi: 0.5 * asqr_func(xi, y, z) * np.cos(x -  xi), 0, x)[0]\n",
    "\n",
    "def jx_func(x, y, z):\n",
    "    return psi_func(x, y, z) - Ufunc(x, y, z)"
   ]
  },
  {
   "cell_type": "code",
   "execution_count": null,
   "metadata": {},
   "outputs": [],
   "source": [
    "def get_field(s):\n",
    "    with h5py.File('../build/Fields.h5', 'r') as f:\n",
    "        return np.array(f[s])\n",
    "    \n",
    "def get_field_axis(s):\n",
    "    f = get_field(s)\n",
    "    return f[:, f.shape[1] // 2, f.shape[2] // 2]\n",
    "\n",
    "def get_field_xy(s):\n",
    "    f = get_field(s)\n",
    "    return f[:, :, f.shape[2] // 2].T\n",
    "\n",
    "def get_field_xz(s):\n",
    "    f = get_field(s)\n",
    "    return f[:, f.shape[1] // 2, :].T\n",
    "\n",
    "def get_field_yz(s):\n",
    "    f = get_field(s)\n",
    "    return f[f.shape[0] // 2, :, :].T"
   ]
  },
  {
   "cell_type": "code",
   "execution_count": null,
   "metadata": {},
   "outputs": [],
   "source": [
    "a = get_field('aSqr')\n",
    "\n",
    "xmax = 60\n",
    "ymax = 20\n",
    "zmax = 20\n",
    "ycenter = ymax / 2\n",
    "zcenter = ymax / 2\n",
    "\n",
    "x = np.linspace(0, xmax, a.shape[0])\n",
    "y = np.linspace(0, ymax, a.shape[1])\n",
    "z = np.linspace(0, ymax, a.shape[2])\n",
    "\n",
    "xx, yy = np.meshgrid(x, y)\n",
    "xx1, zz1 = np.meshgrid(x, z)\n",
    "\n",
    "yy2, zz2 = np.meshgrid(y, z)"
   ]
  },
  {
   "cell_type": "code",
   "execution_count": null,
   "metadata": {},
   "outputs": [],
   "source": [
    "plt.plot(x, get_field_axis('aSqr'))\n",
    "plt.plot(x, asqr_func(x, ycenter, zcenter))"
   ]
  },
  {
   "cell_type": "code",
   "execution_count": null,
   "metadata": {},
   "outputs": [],
   "source": [
    "plt.figure(dpi=100)\n",
    "plt.plot(x, get_field_axis('psi'))\n",
    "plt.plot(x, psi_func(x, ycenter, zcenter), '--')"
   ]
  },
  {
   "cell_type": "code",
   "execution_count": null,
   "metadata": {},
   "outputs": [],
   "source": [
    "f = get_field('psi')\n",
    "print(np.max(np.abs(f)))"
   ]
  },
  {
   "cell_type": "code",
   "execution_count": null,
   "metadata": {},
   "outputs": [],
   "source": [
    "def plot_field_xy(s, vmax=None):\n",
    "    f = get_field_xy(s)\n",
    "    if vmax is None:\n",
    "        vmax = np.max(np.abs(f))\n",
    "    plt.pcolormesh(xx, yy, f, cmap='RdBu_r', vmin=-vmax, vmax=vmax)\n",
    "    plt.colorbar()\n",
    "    \n",
    "def plot_field_xz(s, vmax=None):\n",
    "    f = get_field_xz(s)\n",
    "    if vmax is None:\n",
    "        vmax = np.max(np.abs(f))\n",
    "    plt.pcolormesh(xx1, zz1, f, cmap='RdBu_r', vmin=-vmax, vmax=vmax)\n",
    "    plt.colorbar()\n",
    "    \n",
    "def plot_field_yz(s, shift=0, vmax=None):\n",
    "    f = get_field_yz(s) + shift\n",
    "    if vmax is None:\n",
    "        vmax = np.max(np.abs(f))\n",
    "    plt.pcolormesh(yy2, zz2, f, cmap='RdBu_r', vmin=-vmax, vmax=vmax)\n",
    "    plt.colorbar()\n"
   ]
  },
  {
   "cell_type": "code",
   "execution_count": null,
   "metadata": {},
   "outputs": [],
   "source": [
    "plot_field_xy('aSqr')"
   ]
  },
  {
   "cell_type": "code",
   "execution_count": null,
   "metadata": {},
   "outputs": [],
   "source": [
    "plot_field_xy('jx')"
   ]
  },
  {
   "cell_type": "code",
   "execution_count": null,
   "metadata": {},
   "outputs": [],
   "source": [
    "plot_field_xy('psi')"
   ]
  },
  {
   "cell_type": "code",
   "execution_count": null,
   "metadata": {},
   "outputs": [],
   "source": [
    "plot_field_xz('psi')"
   ]
  },
  {
   "cell_type": "code",
   "execution_count": null,
   "metadata": {},
   "outputs": [],
   "source": [
    "plot_field_yz('psi')"
   ]
  },
  {
   "cell_type": "code",
   "execution_count": null,
   "metadata": {},
   "outputs": [],
   "source": [
    "plot_field_xy('rho', vmax=3)"
   ]
  },
  {
   "cell_type": "code",
   "execution_count": null,
   "metadata": {},
   "outputs": [],
   "source": [
    "plot_field_xy('bz')"
   ]
  },
  {
   "cell_type": "code",
   "execution_count": null,
   "metadata": {},
   "outputs": [],
   "source": [
    "plot_field_xz('bz')"
   ]
  },
  {
   "cell_type": "code",
   "execution_count": null,
   "metadata": {},
   "outputs": [],
   "source": [
    "plot_field_xy('by')"
   ]
  },
  {
   "cell_type": "code",
   "execution_count": null,
   "metadata": {},
   "outputs": [],
   "source": [
    "plot_field_xz('by')"
   ]
  },
  {
   "cell_type": "code",
   "execution_count": null,
   "metadata": {},
   "outputs": [],
   "source": [
    "plot_field_xy('ey')"
   ]
  },
  {
   "cell_type": "code",
   "execution_count": null,
   "metadata": {},
   "outputs": [],
   "source": [
    "plot_field_xz('ez')"
   ]
  },
  {
   "cell_type": "code",
   "execution_count": null,
   "metadata": {},
   "outputs": [],
   "source": [
    "plt.plot(x, get_field_axis('susceptibility'))"
   ]
  },
  {
   "cell_type": "code",
   "execution_count": null,
   "metadata": {},
   "outputs": [],
   "source": []
  }
 ],
 "metadata": {
  "kernelspec": {
   "display_name": "Python 3",
   "language": "python",
   "name": "python3"
  },
  "language_info": {
   "codemirror_mode": {
    "name": "ipython",
    "version": 3
   },
   "file_extension": ".py",
   "mimetype": "text/x-python",
   "name": "python",
   "nbconvert_exporter": "python",
   "pygments_lexer": "ipython3",
   "version": "3.8.1"
  }
 },
 "nbformat": 4,
 "nbformat_minor": 4
}
