{
 "cells": [
  {
   "cell_type": "code",
   "execution_count": null,
   "metadata": {},
   "outputs": [],
   "source": [
    "import matplotlib.pyplot as plt\n",
    "import h5py\n",
    "import numpy as np\n",
    "from scipy import integrate"
   ]
  },
  {
   "cell_type": "code",
   "execution_count": null,
   "metadata": {},
   "outputs": [],
   "source": [
    "def get_field(s):\n",
    "    with h5py.File('../build/Fields.h5') as f:\n",
    "        return np.array(f[s]).T\n",
    "    \n",
    "def get_field_axis(s):\n",
    "    f = get_field(s)\n",
    "    return f[f.shape[0] // 2]"
   ]
  },
  {
   "cell_type": "code",
   "execution_count": null,
   "metadata": {},
   "outputs": [],
   "source": [
    "def asqr_func(x, y):\n",
    "    x0 = 5\n",
    "    y0 = 10\n",
    "    xsigma = 2\n",
    "    ysigma = 2\n",
    "    return 0.01 * np.exp(-( x - x0) ** 2 / xsigma ** 2 - (y - y0) ** 2 / ysigma ** 2)\n",
    "\n",
    "\n",
    "@np.vectorize\n",
    "def psi_func(x, y):\n",
    "    return integrate.quad(lambda xi: 0.5 * asqr_func(xi, y) * np.sin(x -  xi), 0, x)[0]\n",
    "\n",
    "@np.vectorize\n",
    "def ex_func(x, y):\n",
    "    return integrate.quad(lambda xi: 0.5 * asqr_func(xi, y) * np.cos(x -  xi), 0, x)[0]"
   ]
  },
  {
   "cell_type": "code",
   "execution_count": null,
   "metadata": {},
   "outputs": [],
   "source": [
    "a = get_field('aSqr')\n",
    "\n",
    "xmax = 200\n",
    "ymax = 20\n",
    "ycenter = ymax / 2\n",
    "\n",
    "x = np.linspace(0, xmax, a.shape[1])\n",
    "y = np.linspace(0, ymax, a.shape[0])\n",
    "\n",
    "xx, yy = np.meshgrid(x, y)"
   ]
  },
  {
   "cell_type": "code",
   "execution_count": null,
   "metadata": {},
   "outputs": [],
   "source": [
    "plt.pcolormesh(xx, yy, get_field('aSqr'), cmap='Blues')"
   ]
  },
  {
   "cell_type": "code",
   "execution_count": null,
   "metadata": {},
   "outputs": [],
   "source": [
    "plt.plot(x, get_field_axis('aSqr'))\n",
    "plt.plot(x, asqr_func(x, ycenter))"
   ]
  },
  {
   "cell_type": "code",
   "execution_count": null,
   "metadata": {},
   "outputs": [],
   "source": [
    "plt.figure(dpi=100)\n",
    "plt.plot(x, get_field_axis('psi'))\n",
    "plt.plot(x, psi_func(x, ycenter), '--')"
   ]
  },
  {
   "cell_type": "code",
   "execution_count": null,
   "metadata": {},
   "outputs": [],
   "source": [
    "plt.figure(dpi=100)\n",
    "plt.plot(x, get_field_axis('ex'))\n",
    "plt.plot(x, ex_func(x, ycenter), '--')"
   ]
  },
  {
   "cell_type": "code",
   "execution_count": null,
   "metadata": {},
   "outputs": [],
   "source": [
    "plt.figure(dpi=150)\n",
    "plt.imshow(get_field('rho'), cmap='Blues_r', vmin=-2, vmax=0)"
   ]
  },
  {
   "cell_type": "code",
   "execution_count": null,
   "metadata": {},
   "outputs": [],
   "source": [
    "psi = get_field('psi')\n",
    "psi_max = np.max(np.abs(psi))\n",
    "plt.pcolormesh(xx, yy, psi, vmin=-psi_max, vmax=psi_max, cmap='RdBu_r')"
   ]
  },
  {
   "cell_type": "code",
   "execution_count": null,
   "metadata": {},
   "outputs": [],
   "source": [
    "plt.plot(get_field_axis('ex'))"
   ]
  },
  {
   "cell_type": "code",
   "execution_count": null,
   "metadata": {},
   "outputs": [],
   "source": [
    "ex = get_field('ex')\n",
    "ex_max = np.max(np.abs(ex))\n",
    "plt.imshow(ex, cmap='RdBu_r', vmin = -ex_max, vmax = ex_max)"
   ]
  },
  {
   "cell_type": "code",
   "execution_count": null,
   "metadata": {},
   "outputs": [],
   "source": [
    "jy = get_field('jy')\n",
    "jy_max = np.max(np.abs(jy))\n",
    "plt.pcolormesh(xx, yy, jy, vmin=-jy_max, vmax=jy_max, cmap='RdBu_r')"
   ]
  },
  {
   "cell_type": "code",
   "execution_count": null,
   "metadata": {},
   "outputs": [],
   "source": []
  }
 ],
 "metadata": {
  "kernelspec": {
   "display_name": "Python 3",
   "language": "python",
   "name": "python3"
  },
  "language_info": {
   "codemirror_mode": {
    "name": "ipython",
    "version": 3
   },
   "file_extension": ".py",
   "mimetype": "text/x-python",
   "name": "python",
   "nbconvert_exporter": "python",
   "pygments_lexer": "ipython3",
   "version": "3.7.2"
  }
 },
 "nbformat": 4,
 "nbformat_minor": 2
}
